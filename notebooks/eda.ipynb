{
 "cells": [
  {
   "cell_type": "code",
   "execution_count": 1,
   "id": "ff93e892",
   "metadata": {},
   "outputs": [],
   "source": [
    "import numpy as np\n",
    "import pandas as pd\n",
    "import matplotlib.pyplot as plt\n",
    "from src import config"
   ]
  },
  {
   "cell_type": "code",
   "execution_count": 2,
   "id": "130e8495",
   "metadata": {},
   "outputs": [],
   "source": [
    "df_og = pd.read_parquet(config.DATASET)"
   ]
  },
  {
   "cell_type": "markdown",
   "id": "f6a13e9d",
   "metadata": {},
   "source": [
    "Initial shape of our dataset"
   ]
  },
  {
   "cell_type": "code",
   "execution_count": 3,
   "id": "b6f0e837",
   "metadata": {},
   "outputs": [
    {
     "data": {
      "text/plain": [
       "(3588295, 19)"
      ]
     },
     "execution_count": 3,
     "metadata": {},
     "output_type": "execute_result"
    }
   ],
   "source": [
    "df_og.shape"
   ]
  },
  {
   "cell_type": "markdown",
   "id": "fb63b8c6",
   "metadata": {},
   "source": [
    "All of our initial columns and their data types"
   ]
  },
  {
   "cell_type": "code",
   "execution_count": 4,
   "id": "e2e9b92a",
   "metadata": {},
   "outputs": [
    {
     "name": "stdout",
     "output_type": "stream",
     "text": [
      "VendorID int64\n",
      "tpep_pickup_datetime datetime64[us]\n",
      "tpep_dropoff_datetime datetime64[us]\n",
      "passenger_count float64\n",
      "trip_distance float64\n",
      "RatecodeID float64\n",
      "store_and_fwd_flag object\n",
      "PULocationID int64\n",
      "DOLocationID int64\n",
      "payment_type int64\n",
      "fare_amount float64\n",
      "extra float64\n",
      "mta_tax float64\n",
      "tip_amount float64\n",
      "tolls_amount float64\n",
      "improvement_surcharge float64\n",
      "total_amount float64\n",
      "congestion_surcharge float64\n",
      "airport_fee float64\n"
     ]
    }
   ],
   "source": [
    "for column in df_og.columns:\n",
    "    print(column, df_og[column].dtype)"
   ]
  },
  {
   "cell_type": "markdown",
   "id": "38475d22",
   "metadata": {},
   "source": [
    "Some records to see how our data looks"
   ]
  },
  {
   "cell_type": "code",
   "execution_count": 5,
   "id": "42ba97e7",
   "metadata": {},
   "outputs": [
    {
     "data": {
      "text/html": [
       "<div>\n",
       "<style scoped>\n",
       "    .dataframe tbody tr th:only-of-type {\n",
       "        vertical-align: middle;\n",
       "    }\n",
       "\n",
       "    .dataframe tbody tr th {\n",
       "        vertical-align: top;\n",
       "    }\n",
       "\n",
       "    .dataframe thead th {\n",
       "        text-align: right;\n",
       "    }\n",
       "</style>\n",
       "<table border=\"1\" class=\"dataframe\">\n",
       "  <thead>\n",
       "    <tr style=\"text-align: right;\">\n",
       "      <th></th>\n",
       "      <th>0</th>\n",
       "      <th>1</th>\n",
       "      <th>2</th>\n",
       "      <th>3</th>\n",
       "      <th>4</th>\n",
       "    </tr>\n",
       "  </thead>\n",
       "  <tbody>\n",
       "    <tr>\n",
       "      <th>VendorID</th>\n",
       "      <td>1</td>\n",
       "      <td>1</td>\n",
       "      <td>1</td>\n",
       "      <td>1</td>\n",
       "      <td>1</td>\n",
       "    </tr>\n",
       "    <tr>\n",
       "      <th>tpep_pickup_datetime</th>\n",
       "      <td>2022-05-01 00:00:36</td>\n",
       "      <td>2022-05-01 00:27:44</td>\n",
       "      <td>2022-05-01 00:59:00</td>\n",
       "      <td>2022-05-01 00:48:18</td>\n",
       "      <td>2022-05-01 00:28:26</td>\n",
       "    </tr>\n",
       "    <tr>\n",
       "      <th>tpep_dropoff_datetime</th>\n",
       "      <td>2022-05-01 00:19:18</td>\n",
       "      <td>2022-05-01 00:41:33</td>\n",
       "      <td>2022-05-01 01:14:22</td>\n",
       "      <td>2022-05-01 01:28:02</td>\n",
       "      <td>2022-05-01 00:37:49</td>\n",
       "    </tr>\n",
       "    <tr>\n",
       "      <th>passenger_count</th>\n",
       "      <td>1.0</td>\n",
       "      <td>1.0</td>\n",
       "      <td>1.0</td>\n",
       "      <td>1.0</td>\n",
       "      <td>1.0</td>\n",
       "    </tr>\n",
       "    <tr>\n",
       "      <th>trip_distance</th>\n",
       "      <td>4.1</td>\n",
       "      <td>2.3</td>\n",
       "      <td>4.2</td>\n",
       "      <td>0.0</td>\n",
       "      <td>1.6</td>\n",
       "    </tr>\n",
       "    <tr>\n",
       "      <th>RatecodeID</th>\n",
       "      <td>1.0</td>\n",
       "      <td>1.0</td>\n",
       "      <td>1.0</td>\n",
       "      <td>1.0</td>\n",
       "      <td>1.0</td>\n",
       "    </tr>\n",
       "    <tr>\n",
       "      <th>store_and_fwd_flag</th>\n",
       "      <td>N</td>\n",
       "      <td>N</td>\n",
       "      <td>N</td>\n",
       "      <td>N</td>\n",
       "      <td>N</td>\n",
       "    </tr>\n",
       "    <tr>\n",
       "      <th>PULocationID</th>\n",
       "      <td>246</td>\n",
       "      <td>238</td>\n",
       "      <td>163</td>\n",
       "      <td>79</td>\n",
       "      <td>238</td>\n",
       "    </tr>\n",
       "    <tr>\n",
       "      <th>DOLocationID</th>\n",
       "      <td>151</td>\n",
       "      <td>74</td>\n",
       "      <td>260</td>\n",
       "      <td>182</td>\n",
       "      <td>75</td>\n",
       "    </tr>\n",
       "    <tr>\n",
       "      <th>payment_type</th>\n",
       "      <td>2</td>\n",
       "      <td>2</td>\n",
       "      <td>2</td>\n",
       "      <td>1</td>\n",
       "      <td>1</td>\n",
       "    </tr>\n",
       "    <tr>\n",
       "      <th>fare_amount</th>\n",
       "      <td>17.0</td>\n",
       "      <td>11.0</td>\n",
       "      <td>15.5</td>\n",
       "      <td>41.2</td>\n",
       "      <td>7.5</td>\n",
       "    </tr>\n",
       "    <tr>\n",
       "      <th>extra</th>\n",
       "      <td>3.0</td>\n",
       "      <td>3.0</td>\n",
       "      <td>3.0</td>\n",
       "      <td>0.0</td>\n",
       "      <td>3.0</td>\n",
       "    </tr>\n",
       "    <tr>\n",
       "      <th>mta_tax</th>\n",
       "      <td>0.5</td>\n",
       "      <td>0.5</td>\n",
       "      <td>0.5</td>\n",
       "      <td>0.5</td>\n",
       "      <td>0.5</td>\n",
       "    </tr>\n",
       "    <tr>\n",
       "      <th>tip_amount</th>\n",
       "      <td>0.0</td>\n",
       "      <td>0.0</td>\n",
       "      <td>0.0</td>\n",
       "      <td>0.0</td>\n",
       "      <td>2.25</td>\n",
       "    </tr>\n",
       "    <tr>\n",
       "      <th>tolls_amount</th>\n",
       "      <td>0.0</td>\n",
       "      <td>0.0</td>\n",
       "      <td>0.0</td>\n",
       "      <td>0.0</td>\n",
       "      <td>0.0</td>\n",
       "    </tr>\n",
       "    <tr>\n",
       "      <th>improvement_surcharge</th>\n",
       "      <td>0.3</td>\n",
       "      <td>0.3</td>\n",
       "      <td>0.3</td>\n",
       "      <td>0.3</td>\n",
       "      <td>0.3</td>\n",
       "    </tr>\n",
       "    <tr>\n",
       "      <th>total_amount</th>\n",
       "      <td>20.8</td>\n",
       "      <td>14.8</td>\n",
       "      <td>19.3</td>\n",
       "      <td>42.0</td>\n",
       "      <td>13.55</td>\n",
       "    </tr>\n",
       "    <tr>\n",
       "      <th>congestion_surcharge</th>\n",
       "      <td>2.5</td>\n",
       "      <td>2.5</td>\n",
       "      <td>2.5</td>\n",
       "      <td>0.0</td>\n",
       "      <td>2.5</td>\n",
       "    </tr>\n",
       "    <tr>\n",
       "      <th>airport_fee</th>\n",
       "      <td>0.0</td>\n",
       "      <td>0.0</td>\n",
       "      <td>0.0</td>\n",
       "      <td>0.0</td>\n",
       "      <td>0.0</td>\n",
       "    </tr>\n",
       "  </tbody>\n",
       "</table>\n",
       "</div>"
      ],
      "text/plain": [
       "                                         0                    1  \\\n",
       "VendorID                                 1                    1   \n",
       "tpep_pickup_datetime   2022-05-01 00:00:36  2022-05-01 00:27:44   \n",
       "tpep_dropoff_datetime  2022-05-01 00:19:18  2022-05-01 00:41:33   \n",
       "passenger_count                        1.0                  1.0   \n",
       "trip_distance                          4.1                  2.3   \n",
       "RatecodeID                             1.0                  1.0   \n",
       "store_and_fwd_flag                       N                    N   \n",
       "PULocationID                           246                  238   \n",
       "DOLocationID                           151                   74   \n",
       "payment_type                             2                    2   \n",
       "fare_amount                           17.0                 11.0   \n",
       "extra                                  3.0                  3.0   \n",
       "mta_tax                                0.5                  0.5   \n",
       "tip_amount                             0.0                  0.0   \n",
       "tolls_amount                           0.0                  0.0   \n",
       "improvement_surcharge                  0.3                  0.3   \n",
       "total_amount                          20.8                 14.8   \n",
       "congestion_surcharge                   2.5                  2.5   \n",
       "airport_fee                            0.0                  0.0   \n",
       "\n",
       "                                         2                    3  \\\n",
       "VendorID                                 1                    1   \n",
       "tpep_pickup_datetime   2022-05-01 00:59:00  2022-05-01 00:48:18   \n",
       "tpep_dropoff_datetime  2022-05-01 01:14:22  2022-05-01 01:28:02   \n",
       "passenger_count                        1.0                  1.0   \n",
       "trip_distance                          4.2                  0.0   \n",
       "RatecodeID                             1.0                  1.0   \n",
       "store_and_fwd_flag                       N                    N   \n",
       "PULocationID                           163                   79   \n",
       "DOLocationID                           260                  182   \n",
       "payment_type                             2                    1   \n",
       "fare_amount                           15.5                 41.2   \n",
       "extra                                  3.0                  0.0   \n",
       "mta_tax                                0.5                  0.5   \n",
       "tip_amount                             0.0                  0.0   \n",
       "tolls_amount                           0.0                  0.0   \n",
       "improvement_surcharge                  0.3                  0.3   \n",
       "total_amount                          19.3                 42.0   \n",
       "congestion_surcharge                   2.5                  0.0   \n",
       "airport_fee                            0.0                  0.0   \n",
       "\n",
       "                                         4  \n",
       "VendorID                                 1  \n",
       "tpep_pickup_datetime   2022-05-01 00:28:26  \n",
       "tpep_dropoff_datetime  2022-05-01 00:37:49  \n",
       "passenger_count                        1.0  \n",
       "trip_distance                          1.6  \n",
       "RatecodeID                             1.0  \n",
       "store_and_fwd_flag                       N  \n",
       "PULocationID                           238  \n",
       "DOLocationID                            75  \n",
       "payment_type                             1  \n",
       "fare_amount                            7.5  \n",
       "extra                                  3.0  \n",
       "mta_tax                                0.5  \n",
       "tip_amount                            2.25  \n",
       "tolls_amount                           0.0  \n",
       "improvement_surcharge                  0.3  \n",
       "total_amount                         13.55  \n",
       "congestion_surcharge                   2.5  \n",
       "airport_fee                            0.0  "
      ]
     },
     "execution_count": 5,
     "metadata": {},
     "output_type": "execute_result"
    }
   ],
   "source": [
    "df_og.head(5).T"
   ]
  },
  {
   "cell_type": "code",
   "execution_count": 6,
   "id": "0b9ea8f3",
   "metadata": {},
   "outputs": [
    {
     "data": {
      "text/plain": [
       "1"
      ]
     },
     "execution_count": 6,
     "metadata": {},
     "output_type": "execute_result"
    }
   ],
   "source": [
    "df_og['VendorID'].min()"
   ]
  },
  {
   "cell_type": "markdown",
   "id": "9dc1797c",
   "metadata": {},
   "source": [
    "First we will count how many missing values to we have on each column"
   ]
  },
  {
   "cell_type": "code",
   "execution_count": 7,
   "id": "db9e9a9c",
   "metadata": {},
   "outputs": [
    {
     "data": {
      "text/html": [
       "<div>\n",
       "<style scoped>\n",
       "    .dataframe tbody tr th:only-of-type {\n",
       "        vertical-align: middle;\n",
       "    }\n",
       "\n",
       "    .dataframe tbody tr th {\n",
       "        vertical-align: top;\n",
       "    }\n",
       "\n",
       "    .dataframe thead th {\n",
       "        text-align: right;\n",
       "    }\n",
       "</style>\n",
       "<table border=\"1\" class=\"dataframe\">\n",
       "  <thead>\n",
       "    <tr style=\"text-align: right;\">\n",
       "      <th></th>\n",
       "      <th>Total</th>\n",
       "      <th>Percent</th>\n",
       "    </tr>\n",
       "  </thead>\n",
       "  <tbody>\n",
       "    <tr>\n",
       "      <th>airport_fee</th>\n",
       "      <td>129524</td>\n",
       "      <td>3.61</td>\n",
       "    </tr>\n",
       "    <tr>\n",
       "      <th>congestion_surcharge</th>\n",
       "      <td>129524</td>\n",
       "      <td>3.61</td>\n",
       "    </tr>\n",
       "    <tr>\n",
       "      <th>passenger_count</th>\n",
       "      <td>129524</td>\n",
       "      <td>3.61</td>\n",
       "    </tr>\n",
       "    <tr>\n",
       "      <th>RatecodeID</th>\n",
       "      <td>129524</td>\n",
       "      <td>3.61</td>\n",
       "    </tr>\n",
       "    <tr>\n",
       "      <th>store_and_fwd_flag</th>\n",
       "      <td>129524</td>\n",
       "      <td>3.61</td>\n",
       "    </tr>\n",
       "    <tr>\n",
       "      <th>extra</th>\n",
       "      <td>0</td>\n",
       "      <td>0.00</td>\n",
       "    </tr>\n",
       "    <tr>\n",
       "      <th>total_amount</th>\n",
       "      <td>0</td>\n",
       "      <td>0.00</td>\n",
       "    </tr>\n",
       "    <tr>\n",
       "      <th>improvement_surcharge</th>\n",
       "      <td>0</td>\n",
       "      <td>0.00</td>\n",
       "    </tr>\n",
       "    <tr>\n",
       "      <th>tolls_amount</th>\n",
       "      <td>0</td>\n",
       "      <td>0.00</td>\n",
       "    </tr>\n",
       "    <tr>\n",
       "      <th>tip_amount</th>\n",
       "      <td>0</td>\n",
       "      <td>0.00</td>\n",
       "    </tr>\n",
       "    <tr>\n",
       "      <th>mta_tax</th>\n",
       "      <td>0</td>\n",
       "      <td>0.00</td>\n",
       "    </tr>\n",
       "    <tr>\n",
       "      <th>VendorID</th>\n",
       "      <td>0</td>\n",
       "      <td>0.00</td>\n",
       "    </tr>\n",
       "    <tr>\n",
       "      <th>fare_amount</th>\n",
       "      <td>0</td>\n",
       "      <td>0.00</td>\n",
       "    </tr>\n",
       "    <tr>\n",
       "      <th>tpep_pickup_datetime</th>\n",
       "      <td>0</td>\n",
       "      <td>0.00</td>\n",
       "    </tr>\n",
       "    <tr>\n",
       "      <th>DOLocationID</th>\n",
       "      <td>0</td>\n",
       "      <td>0.00</td>\n",
       "    </tr>\n",
       "    <tr>\n",
       "      <th>PULocationID</th>\n",
       "      <td>0</td>\n",
       "      <td>0.00</td>\n",
       "    </tr>\n",
       "    <tr>\n",
       "      <th>trip_distance</th>\n",
       "      <td>0</td>\n",
       "      <td>0.00</td>\n",
       "    </tr>\n",
       "    <tr>\n",
       "      <th>tpep_dropoff_datetime</th>\n",
       "      <td>0</td>\n",
       "      <td>0.00</td>\n",
       "    </tr>\n",
       "    <tr>\n",
       "      <th>payment_type</th>\n",
       "      <td>0</td>\n",
       "      <td>0.00</td>\n",
       "    </tr>\n",
       "  </tbody>\n",
       "</table>\n",
       "</div>"
      ],
      "text/plain": [
       "                        Total  Percent\n",
       "airport_fee            129524     3.61\n",
       "congestion_surcharge   129524     3.61\n",
       "passenger_count        129524     3.61\n",
       "RatecodeID             129524     3.61\n",
       "store_and_fwd_flag     129524     3.61\n",
       "extra                       0     0.00\n",
       "total_amount                0     0.00\n",
       "improvement_surcharge       0     0.00\n",
       "tolls_amount                0     0.00\n",
       "tip_amount                  0     0.00\n",
       "mta_tax                     0     0.00\n",
       "VendorID                    0     0.00\n",
       "fare_amount                 0     0.00\n",
       "tpep_pickup_datetime        0     0.00\n",
       "DOLocationID                0     0.00\n",
       "PULocationID                0     0.00\n",
       "trip_distance               0     0.00\n",
       "tpep_dropoff_datetime       0     0.00\n",
       "payment_type                0     0.00"
      ]
     },
     "execution_count": 7,
     "metadata": {},
     "output_type": "execute_result"
    }
   ],
   "source": [
    "# count the missing values per columns, and the percentage that they represent against the total amount of rows available\n",
    "filt_missing = df_og.isnull().sum()\n",
    "df_missing_percent = filt_missing.sort_values(ascending=False).to_frame().rename(columns={0:'Total'})\n",
    "df_missing_percent['Percent'] = (df_missing_percent/df_og.shape[0])*100\n",
    "df_missing_percent['Percent'] = df_missing_percent['Percent'].round(2)\n",
    "df_missing_percent"
   ]
  },
  {
   "cell_type": "markdown",
   "id": "e129c274",
   "metadata": {},
   "source": [
    "The missing values represent a very small amount from the total amount of records that we have available, so dropping them from out dataframe will not affect our process"
   ]
  },
  {
   "cell_type": "code",
   "execution_count": 8,
   "id": "1d3f80a8",
   "metadata": {},
   "outputs": [
    {
     "data": {
      "text/plain": [
       "(3458771, 19)"
      ]
     },
     "execution_count": 8,
     "metadata": {},
     "output_type": "execute_result"
    }
   ],
   "source": [
    "df_og.dropna(inplace=True)\n",
    "\n",
    "# our new shape becomes\n",
    "df_og.shape"
   ]
  },
  {
   "cell_type": "markdown",
   "id": "4a02e758",
   "metadata": {},
   "source": [
    "Distribution of target variables"
   ]
  },
  {
   "cell_type": "code",
   "execution_count": 9,
   "id": "8a076dcd",
   "metadata": {},
   "outputs": [],
   "source": [
    "# first the distribution of the fare_amount variable\n",
    "# we will only be using a subset of our dataset since it is too big\n",
    "sample = df_og.sample(frac=0.05, random_state=42)"
   ]
  },
  {
   "cell_type": "code",
   "execution_count": 10,
   "id": "ae490007",
   "metadata": {},
   "outputs": [],
   "source": [
    "fares = sample['fare_amount'].to_numpy()"
   ]
  },
  {
   "cell_type": "code",
   "execution_count": 11,
   "id": "7723704a",
   "metadata": {},
   "outputs": [
    {
     "name": "stdout",
     "output_type": "stream",
     "text": [
      "Max amount in fares: 480.0\n",
      "Min amount in fares: -900.0\n"
     ]
    }
   ],
   "source": [
    "# min and max amounts\n",
    "print(f'Max amount in fares: {fares.max()}')\n",
    "print(f'Min amount in fares: {fares.min()}')"
   ]
  },
  {
   "cell_type": "markdown",
   "id": "b27180fc",
   "metadata": {},
   "source": [
    "We see that we have some clear outliers, such as negative numbers (which should not be possible, so we will have to remove them most likely)"
   ]
  },
  {
   "cell_type": "code",
   "execution_count": 12,
   "id": "abc51dcf",
   "metadata": {},
   "outputs": [
    {
     "data": {
      "image/png": "[encoded data removed]",
      "text/plain": [
       "<Figure size 640x480 with 1 Axes>"
      ]
     },
     "metadata": {},
     "output_type": "display_data"
    }
   ],
   "source": [
    "plt.hist(fares,bins=[0,10,20,30,40,50,60,70,80,90,100],color='green')\n",
    "plt.xlabel('Value')\n",
    "plt.ylabel('Frequency')\n",
    "plt.title('Histogram of fare amounts')\n",
    "plt.show()"
   ]
  },
  {
   "cell_type": "markdown",
   "id": "81129cef",
   "metadata": {},
   "source": [
    "It is clear that the grand majority of fares will be concentrated between 0 and 20"
   ]
  },
  {
   "cell_type": "code",
   "execution_count": 13,
   "id": "ced6cc8f",
   "metadata": {},
   "outputs": [
    {
     "data": {
      "text/plain": [
       "VendorID                 20471\n",
       "tpep_pickup_datetime     20471\n",
       "tpep_dropoff_datetime    20471\n",
       "passenger_count          20471\n",
       "trip_distance            20471\n",
       "RatecodeID               20471\n",
       "store_and_fwd_flag       20471\n",
       "PULocationID             20471\n",
       "DOLocationID             20471\n",
       "payment_type             20471\n",
       "fare_amount              20471\n",
       "extra                    20471\n",
       "mta_tax                  20471\n",
       "tip_amount               20471\n",
       "tolls_amount             20471\n",
       "improvement_surcharge    20471\n",
       "total_amount             20471\n",
       "congestion_surcharge     20471\n",
       "airport_fee              20471\n",
       "dtype: int64"
      ]
     },
     "execution_count": 13,
     "metadata": {},
     "output_type": "execute_result"
    }
   ],
   "source": [
    "# how many records include a fare amount that is less than 0 (i.e negative values)\n",
    "# this is taken from our original df\n",
    "df_og[df_og['fare_amount'] < 0].count()"
   ]
  },
  {
   "cell_type": "markdown",
   "id": "4f5f88ba",
   "metadata": {},
   "source": [
    "So we have a total of 20,471 records that include a fare amount that is negative, we can safely remove this because they represent such a small amount when compared to the total number of records as well"
   ]
  },
  {
   "cell_type": "code",
   "execution_count": 14,
   "id": "eefcf89c",
   "metadata": {},
   "outputs": [
    {
     "data": {
      "text/plain": [
       "(3438300, 19)"
      ]
     },
     "execution_count": 14,
     "metadata": {},
     "output_type": "execute_result"
    }
   ],
   "source": [
    "idx_to_drop = df_og[df_og['fare_amount'] < 0].index\n",
    "df_og.drop(idx_to_drop, inplace=True)\n",
    "\n",
    "# new shape after dropping negative fare values\n",
    "df_og.shape"
   ]
  },
  {
   "cell_type": "markdown",
   "id": "9e831293",
   "metadata": {},
   "source": [
    "Now we can plot the same info for travel times, to see how the distributions of those look"
   ]
  },
  {
   "cell_type": "code",
   "execution_count": 15,
   "id": "6fb4db75",
   "metadata": {},
   "outputs": [],
   "source": [
    "# First we need to calculate the travel time in seconds for each travel record that we have\n",
    "df_og['travel_time'] = df_og['tpep_dropoff_datetime'] - df_og['tpep_pickup_datetime']\n",
    "df_og['travel_time'] = df_og['travel_time'].dt.total_seconds()"
   ]
  },
  {
   "cell_type": "code",
   "execution_count": 16,
   "id": "7f52600d",
   "metadata": {},
   "outputs": [],
   "source": [
    "sample_travel = df_og.sample(frac=0.05, random_state=42)\n",
    "travel_times = sample_travel['travel_time'].to_numpy()"
   ]
  },
  {
   "cell_type": "code",
   "execution_count": 17,
   "id": "e4a2a696",
   "metadata": {},
   "outputs": [
    {
     "name": "stdout",
     "output_type": "stream",
     "text": [
      "Max amount in travel times: 409413.0\n",
      "Min amount in travel times: 0.0\n"
     ]
    }
   ],
   "source": [
    "# min and max amounts\n",
    "print(f'Max amount in travel times: {travel_times.max()}')\n",
    "print(f'Min amount in travel times: {travel_times.min()}')"
   ]
  },
  {
   "cell_type": "code",
   "execution_count": 18,
   "id": "10c0dcd4",
   "metadata": {},
   "outputs": [
    {
     "data": {
      "text/plain": [
       "array([  6152.,   6153.,   6161.,   6155.,   6162.,   6635.,   6524.,\n",
       "         6190.,   6614.,   6376.,   6576.,   6614.,   6229.,   6339.,\n",
       "         6624.,   6503.,   6334.,   6375.,   6317.,   6192.,   6194.,\n",
       "         6344.,   6528.,   6331.,   6262.,   6356.,   6340.,   6317.,\n",
       "         6469.,   6224.,   6296.,   6433.,   6626.,   6652.,   6347.,\n",
       "         6172.,   6178.,   6420.,   6287.,   6525.,   6177.,   6595.,\n",
       "         6302.,   6264.,   6415.,   6380.,   6648.,   6291.,   6373.,\n",
       "         6357.,   6239.,   6565.,   6182.,   6475.,   6351.,   6693.,\n",
       "         6778.,   7230.,   6757.,   6846.,   7061.,   6975.,   6821.,\n",
       "         6974.,   6859.,   7135.,   6838.,   6895.,   6868.,   6797.,\n",
       "         7009.,   7109.,   6926.,   7001.,   7276.,   6854.,   7203.,\n",
       "         6769.,   7263.,   6899.,   7178.,   6949.,   7254.,   7146.,\n",
       "         6726.,   6722.,   6816.,   6894.,   6824.,   7212.,   6774.,\n",
       "         7165.,   6772.,   7306.,   8046.,  49509.,  11199.,   8184.,\n",
       "        82694.,   9781.,  82799.,  10242.,   8144.,  83981.,  83982.,\n",
       "        83439.,  81684.,  67129.,  11492.,  12165.,  83404.,  83451.,\n",
       "        59256.,   9205.,  42905.,  80929.,  81804.,   8278.,   8146.,\n",
       "         7583.,   7578.,  83798.,   7685.,  79688.,  83414.,   7511.,\n",
       "        83688.,  81597.,  83188.,  79769.,   8507.,   7786.,   8701.,\n",
       "        83601.,  83956.,  83379.,   9440.,  77976.,  10177.,  56869.,\n",
       "        21004.,  11913.,   7965.,  83646.,  83360.,   8274.,   9392.,\n",
       "         7694.,  41720.,  11277.,   7363.,   8561.,   9215.,  71093.,\n",
       "        51195.,  82372.,  19096.,  83370.,   8639.,   7652.,  35763.,\n",
       "        82230.,  34735.,  28645.,   7497.,  83849.,  83103.,  83882.,\n",
       "        81771.,  82330.,  31678.,   8014.,  83518.,  22627.,  10605.,\n",
       "        57392.,   9160.,  83570.,  83795.,  83911.,  66989.,  22371.,\n",
       "        83066.,  50010.,  83613.,  84058.,   8841.,   7315.,  83627.,\n",
       "        10445.,  12877.,  82609.,   7477.,  83827.,   7630.,  84079.,\n",
       "        83482.,   8946.,   8742.,  27548.,  12326.,  42191.,  61502.,\n",
       "        79226.,  83301.,  22731.,   8079.,  15019.,  83988.,   8928.,\n",
       "        83253.,  84097.,   7417.,   7726.,  10248.,  15080.,  83705.,\n",
       "        83406.,  83048.,   8671.,  49404.,  83631.,   7456.,   8436.,\n",
       "        11083.,  10499.,  14602.,  26680.,  46878.,  59237.,  80318.,\n",
       "         9661.,  83520.,  80710.,  83503.,  84114.,  85989.,  85006.,\n",
       "        86228.,  86242.,  86139.,  84925.,  84514.,  84379.,  85892.,\n",
       "        86312.,  85960.,  86223.,  84471.,  84877.,  86326.,  85987.,\n",
       "        85079.,  85321.,  85880.,  85827.,  84275.,  85983.,  86267.,\n",
       "        84391.,  84141.,  86311.,  86332.,  86036.,  85694.,  86223.,\n",
       "        85503.,  86085., 409413.,  85752.,  86006.,  86335.,  85948.,\n",
       "        86284.,  86166.,  86392.,  86196.,  86236.,  85807.,  84840.,\n",
       "        85410.,  85461.,  86148.,  86349.,  86211.,  84241.,  86093.,\n",
       "        86302.,  86096.,  84364.,  85180.,  86187.,  86209.,  86268.,\n",
       "        86216.,  85135.,  86340.,  85084.,  85559.,  85771.,  86287.,\n",
       "        86313.,  85267.,  84935.,  86394.,  85987.,  86049.,  85362.,\n",
       "        86352.,  86171.,  86269.,  85483.,  85838.,  86026.,  85677.,\n",
       "        86379.,  85834.,  86337.,  86377.,  85306.,  86327.,  86211.,\n",
       "        84296.,  85752.,  85330.,  85852.,  86274.,  85908.,  85937.,\n",
       "        86214.,  86016.,  86100.,  86171.,  86297.,  86105.,  85424.,\n",
       "        84504.,  85300.,  86179.,  86096.,  86224.,  86228.,  85703.,\n",
       "        86083.,  85003.,  85577.,  86333.,  85753.,  86236.,  86209.,\n",
       "        85368.,  85942.,  85797.,  86233.,  85906.,  84288.,  85921.,\n",
       "        86085.,  86068.,  85333.,  84756.,  85713.,  86181.,  86228.,\n",
       "        85504.,  86150.,  86023.,  86117.,  84819.,  86269.,  85870.,\n",
       "        86302.,  86114.,  86239.,  86276.,  85121.,  85804.,  86180.,\n",
       "        85969.,  86178.,  85851.,  86200.,  85117.,  86217.,  86319.,\n",
       "        86042.,  85531.,  84737.,  85604.,  84263., 125786.,  85997.,\n",
       "        85957.,  86219.,  86215.,  86040.,  85710.,  86137.,  85365.,\n",
       "        85021.])"
      ]
     },
     "execution_count": 18,
     "metadata": {},
     "output_type": "execute_result"
    }
   ],
   "source": [
    "# top then travel time values\n",
    "travel_times[np.argpartition(travel_times, -400)[-400:]]"
   ]
  },
  {
   "cell_type": "markdown",
   "id": "59c4538f",
   "metadata": {},
   "source": [
    "We can see some clear outliers, most of those are values orbiting around 86000s which is the equivalent to 24hrs, indicating clear incorrect inputs.\n",
    "We will remove any records with a travel time above 18,000s (around 5 hours)"
   ]
  },
  {
   "cell_type": "code",
   "execution_count": 19,
   "id": "bdf04a45",
   "metadata": {},
   "outputs": [
    {
     "data": {
      "text/plain": [
       "(3433452, 20)"
      ]
     },
     "execution_count": 19,
     "metadata": {},
     "output_type": "execute_result"
    }
   ],
   "source": [
    "# removing the rows with travel times above 24hrs\n",
    "idx_travel_time = df_og[df_og['travel_time'] > 18000].index\n",
    "df_og.drop(idx_travel_time, inplace=True)\n",
    "df_og.shape"
   ]
  },
  {
   "cell_type": "markdown",
   "id": "1cad22ed",
   "metadata": {},
   "source": [
    "There is some really extensive travel times, so we will have to take that into account to detect outliers"
   ]
  },
  {
   "cell_type": "code",
   "execution_count": 20,
   "id": "95ac044f",
   "metadata": {},
   "outputs": [
    {
     "data": {
      "image/png": "[encoded data removed]",
      "text/plain": [
       "<Figure size 640x480 with 1 Axes>"
      ]
     },
     "metadata": {},
     "output_type": "display_data"
    }
   ],
   "source": [
    "plt.hist(travel_times,bins=[0,1500,3000,4500,6000,7500],color='green')\n",
    "plt.xlabel('Value')\n",
    "plt.ylabel('Frequency')\n",
    "plt.title('Histogram of travel time amounts')\n",
    "plt.show()"
   ]
  },
  {
   "cell_type": "markdown",
   "id": "3635ecbf",
   "metadata": {},
   "source": [
    "the majority of our travel times are between 0 and 2000s"
   ]
  },
  {
   "cell_type": "markdown",
   "id": "f569551a",
   "metadata": {},
   "source": [
    "Also, we can see what the taxi zone codes mean from another file"
   ]
  },
  {
   "cell_type": "code",
   "execution_count": 21,
   "id": "ff74e821",
   "metadata": {},
   "outputs": [],
   "source": [
    "zones = pd.read_csv(config.DATASET_ZONE_DESCRIPTIONS)"
   ]
  },
  {
   "cell_type": "code",
   "execution_count": 22,
   "id": "3ac48c2e",
   "metadata": {},
   "outputs": [
    {
     "data": {
      "text/html": [
       "<div>\n",
       "<style scoped>\n",
       "    .dataframe tbody tr th:only-of-type {\n",
       "        vertical-align: middle;\n",
       "    }\n",
       "\n",
       "    .dataframe tbody tr th {\n",
       "        vertical-align: top;\n",
       "    }\n",
       "\n",
       "    .dataframe thead th {\n",
       "        text-align: right;\n",
       "    }\n",
       "</style>\n",
       "<table border=\"1\" class=\"dataframe\">\n",
       "  <thead>\n",
       "    <tr style=\"text-align: right;\">\n",
       "      <th></th>\n",
       "      <th>LocationID</th>\n",
       "      <th>Borough</th>\n",
       "      <th>Zone</th>\n",
       "      <th>service_zone</th>\n",
       "    </tr>\n",
       "  </thead>\n",
       "  <tbody>\n",
       "    <tr>\n",
       "      <th>0</th>\n",
       "      <td>1</td>\n",
       "      <td>EWR</td>\n",
       "      <td>Newark Airport</td>\n",
       "      <td>EWR</td>\n",
       "    </tr>\n",
       "    <tr>\n",
       "      <th>1</th>\n",
       "      <td>2</td>\n",
       "      <td>Queens</td>\n",
       "      <td>Jamaica Bay</td>\n",
       "      <td>Boro Zone</td>\n",
       "    </tr>\n",
       "    <tr>\n",
       "      <th>2</th>\n",
       "      <td>3</td>\n",
       "      <td>Bronx</td>\n",
       "      <td>Allerton/Pelham Gardens</td>\n",
       "      <td>Boro Zone</td>\n",
       "    </tr>\n",
       "    <tr>\n",
       "      <th>3</th>\n",
       "      <td>4</td>\n",
       "      <td>Manhattan</td>\n",
       "      <td>Alphabet City</td>\n",
       "      <td>Yellow Zone</td>\n",
       "    </tr>\n",
       "    <tr>\n",
       "      <th>4</th>\n",
       "      <td>5</td>\n",
       "      <td>Staten Island</td>\n",
       "      <td>Arden Heights</td>\n",
       "      <td>Boro Zone</td>\n",
       "    </tr>\n",
       "    <tr>\n",
       "      <th>...</th>\n",
       "      <td>...</td>\n",
       "      <td>...</td>\n",
       "      <td>...</td>\n",
       "      <td>...</td>\n",
       "    </tr>\n",
       "    <tr>\n",
       "      <th>260</th>\n",
       "      <td>261</td>\n",
       "      <td>Manhattan</td>\n",
       "      <td>World Trade Center</td>\n",
       "      <td>Yellow Zone</td>\n",
       "    </tr>\n",
       "    <tr>\n",
       "      <th>261</th>\n",
       "      <td>262</td>\n",
       "      <td>Manhattan</td>\n",
       "      <td>Yorkville East</td>\n",
       "      <td>Yellow Zone</td>\n",
       "    </tr>\n",
       "    <tr>\n",
       "      <th>262</th>\n",
       "      <td>263</td>\n",
       "      <td>Manhattan</td>\n",
       "      <td>Yorkville West</td>\n",
       "      <td>Yellow Zone</td>\n",
       "    </tr>\n",
       "    <tr>\n",
       "      <th>263</th>\n",
       "      <td>264</td>\n",
       "      <td>Unknown</td>\n",
       "      <td>NaN</td>\n",
       "      <td>NaN</td>\n",
       "    </tr>\n",
       "    <tr>\n",
       "      <th>264</th>\n",
       "      <td>265</td>\n",
       "      <td>NaN</td>\n",
       "      <td>Outside of NYC</td>\n",
       "      <td>NaN</td>\n",
       "    </tr>\n",
       "  </tbody>\n",
       "</table>\n",
       "<p>265 rows × 4 columns</p>\n",
       "</div>"
      ],
      "text/plain": [
       "     LocationID        Borough                     Zone service_zone\n",
       "0             1            EWR           Newark Airport          EWR\n",
       "1             2         Queens              Jamaica Bay    Boro Zone\n",
       "2             3          Bronx  Allerton/Pelham Gardens    Boro Zone\n",
       "3             4      Manhattan            Alphabet City  Yellow Zone\n",
       "4             5  Staten Island            Arden Heights    Boro Zone\n",
       "..          ...            ...                      ...          ...\n",
       "260         261      Manhattan       World Trade Center  Yellow Zone\n",
       "261         262      Manhattan           Yorkville East  Yellow Zone\n",
       "262         263      Manhattan           Yorkville West  Yellow Zone\n",
       "263         264        Unknown                      NaN          NaN\n",
       "264         265            NaN           Outside of NYC          NaN\n",
       "\n",
       "[265 rows x 4 columns]"
      ]
     },
     "execution_count": 22,
     "metadata": {},
     "output_type": "execute_result"
    }
   ],
   "source": [
    "zones"
   ]
  },
  {
   "cell_type": "markdown",
   "id": "47216af6",
   "metadata": {},
   "source": [
    "given this, it will probably be useful to also drop all the rows that contain 264 or 265 as code values, since we would not be able to draw much significant information from them for now"
   ]
  },
  {
   "cell_type": "code",
   "execution_count": 23,
   "id": "d90a9f1b",
   "metadata": {},
   "outputs": [
    {
     "data": {
      "text/plain": [
       "(3376508, 20)"
      ]
     },
     "execution_count": 23,
     "metadata": {},
     "output_type": "execute_result"
    }
   ],
   "source": [
    "removal = (df_og['DOLocationID'] == 264) | (df_og['DOLocationID'] == 265) | (df_og['PULocationID'] == 264) | (df_og['PULocationID'] == 265)\n",
    "df_og = df_og[~removal]\n",
    "df_og.shape"
   ]
  },
  {
   "cell_type": "markdown",
   "id": "9418c442",
   "metadata": {},
   "source": [
    "Finally we can look at the zones to determine the distance between the centroids, and add that as a new column"
   ]
  },
  {
   "cell_type": "code",
   "execution_count": 24,
   "id": "b4310d21",
   "metadata": {},
   "outputs": [],
   "source": [
    "import geopandas as gp"
   ]
  },
  {
   "cell_type": "code",
   "execution_count": 25,
   "id": "e0c0ae3b",
   "metadata": {},
   "outputs": [],
   "source": [
    "gdf = gp.read_file(config.DATASET_ZONE_GEOM)"
   ]
  },
  {
   "cell_type": "code",
   "execution_count": 26,
   "id": "3517ddf3",
   "metadata": {},
   "outputs": [],
   "source": [
    "gdf['centroids'] = gdf.centroid\n",
    "gdf = gdf.to_crs('EPSG:32618')"
   ]
  },
  {
   "cell_type": "code",
   "execution_count": 27,
   "id": "50c16eac",
   "metadata": {},
   "outputs": [
    {
     "data": {
      "text/plain": [
       "1618.2387894829762"
      ]
     },
     "execution_count": 27,
     "metadata": {},
     "output_type": "execute_result"
    }
   ],
   "source": [
    "# we could calculate the distance between two centroids like so\n",
    "distance = gdf['centroids'].iloc[262].distance(gdf['centroids'].iloc[261])\n",
    "distance"
   ]
  },
  {
   "cell_type": "code",
   "execution_count": 28,
   "id": "60015f6b",
   "metadata": {},
   "outputs": [],
   "source": [
    "# we can also include a new categorical column called 'time_of_day' to stablish whether a trip ocurred in the\n",
    "# morning, afternoon, or at night\n",
    "def period_of_time(dt:pd.Timestamp):\n",
    "    if dt.hour <= 7 or dt.hour >= 20:\n",
    "        return 'night'\n",
    "    elif dt.hour > 7 and dt.hour < 12:\n",
    "        return 'morning'\n",
    "    else:\n",
    "        return 'afternoon'\n",
    "\n",
    "df_og['time_of_day'] = df_og['tpep_pickup_datetime'].apply(period_of_time)"
   ]
  },
  {
   "cell_type": "code",
   "execution_count": 29,
   "id": "f034d2d6",
   "metadata": {},
   "outputs": [
    {
     "data": {
      "text/html": [
       "<div>\n",
       "<style scoped>\n",
       "    .dataframe tbody tr th:only-of-type {\n",
       "        vertical-align: middle;\n",
       "    }\n",
       "\n",
       "    .dataframe tbody tr th {\n",
       "        vertical-align: top;\n",
       "    }\n",
       "\n",
       "    .dataframe thead th {\n",
       "        text-align: right;\n",
       "    }\n",
       "</style>\n",
       "<table border=\"1\" class=\"dataframe\">\n",
       "  <thead>\n",
       "    <tr style=\"text-align: right;\">\n",
       "      <th></th>\n",
       "      <th>VendorID</th>\n",
       "      <th>tpep_pickup_datetime</th>\n",
       "      <th>tpep_dropoff_datetime</th>\n",
       "      <th>passenger_count</th>\n",
       "      <th>trip_distance</th>\n",
       "      <th>RatecodeID</th>\n",
       "      <th>store_and_fwd_flag</th>\n",
       "      <th>PULocationID</th>\n",
       "      <th>DOLocationID</th>\n",
       "      <th>payment_type</th>\n",
       "      <th>...</th>\n",
       "      <th>extra</th>\n",
       "      <th>mta_tax</th>\n",
       "      <th>tip_amount</th>\n",
       "      <th>tolls_amount</th>\n",
       "      <th>improvement_surcharge</th>\n",
       "      <th>total_amount</th>\n",
       "      <th>congestion_surcharge</th>\n",
       "      <th>airport_fee</th>\n",
       "      <th>travel_time</th>\n",
       "      <th>time_of_day</th>\n",
       "    </tr>\n",
       "  </thead>\n",
       "  <tbody>\n",
       "    <tr>\n",
       "      <th>0</th>\n",
       "      <td>1</td>\n",
       "      <td>2022-05-01 00:00:36</td>\n",
       "      <td>2022-05-01 00:19:18</td>\n",
       "      <td>1.0</td>\n",
       "      <td>4.1</td>\n",
       "      <td>1.0</td>\n",
       "      <td>N</td>\n",
       "      <td>246</td>\n",
       "      <td>151</td>\n",
       "      <td>2</td>\n",
       "      <td>...</td>\n",
       "      <td>3.0</td>\n",
       "      <td>0.5</td>\n",
       "      <td>0.0</td>\n",
       "      <td>0.0</td>\n",
       "      <td>0.3</td>\n",
       "      <td>20.8</td>\n",
       "      <td>2.5</td>\n",
       "      <td>0.0</td>\n",
       "      <td>1122.0</td>\n",
       "      <td>night</td>\n",
       "    </tr>\n",
       "    <tr>\n",
       "      <th>1</th>\n",
       "      <td>1</td>\n",
       "      <td>2022-05-01 00:27:44</td>\n",
       "      <td>2022-05-01 00:41:33</td>\n",
       "      <td>1.0</td>\n",
       "      <td>2.3</td>\n",
       "      <td>1.0</td>\n",
       "      <td>N</td>\n",
       "      <td>238</td>\n",
       "      <td>74</td>\n",
       "      <td>2</td>\n",
       "      <td>...</td>\n",
       "      <td>3.0</td>\n",
       "      <td>0.5</td>\n",
       "      <td>0.0</td>\n",
       "      <td>0.0</td>\n",
       "      <td>0.3</td>\n",
       "      <td>14.8</td>\n",
       "      <td>2.5</td>\n",
       "      <td>0.0</td>\n",
       "      <td>829.0</td>\n",
       "      <td>night</td>\n",
       "    </tr>\n",
       "    <tr>\n",
       "      <th>2</th>\n",
       "      <td>1</td>\n",
       "      <td>2022-05-01 00:59:00</td>\n",
       "      <td>2022-05-01 01:14:22</td>\n",
       "      <td>1.0</td>\n",
       "      <td>4.2</td>\n",
       "      <td>1.0</td>\n",
       "      <td>N</td>\n",
       "      <td>163</td>\n",
       "      <td>260</td>\n",
       "      <td>2</td>\n",
       "      <td>...</td>\n",
       "      <td>3.0</td>\n",
       "      <td>0.5</td>\n",
       "      <td>0.0</td>\n",
       "      <td>0.0</td>\n",
       "      <td>0.3</td>\n",
       "      <td>19.3</td>\n",
       "      <td>2.5</td>\n",
       "      <td>0.0</td>\n",
       "      <td>922.0</td>\n",
       "      <td>night</td>\n",
       "    </tr>\n",
       "  </tbody>\n",
       "</table>\n",
       "<p>3 rows × 21 columns</p>\n",
       "</div>"
      ],
      "text/plain": [
       "   VendorID tpep_pickup_datetime tpep_dropoff_datetime  passenger_count  \\\n",
       "0         1  2022-05-01 00:00:36   2022-05-01 00:19:18              1.0   \n",
       "1         1  2022-05-01 00:27:44   2022-05-01 00:41:33              1.0   \n",
       "2         1  2022-05-01 00:59:00   2022-05-01 01:14:22              1.0   \n",
       "\n",
       "   trip_distance  RatecodeID store_and_fwd_flag  PULocationID  DOLocationID  \\\n",
       "0            4.1         1.0                  N           246           151   \n",
       "1            2.3         1.0                  N           238            74   \n",
       "2            4.2         1.0                  N           163           260   \n",
       "\n",
       "   payment_type  ...  extra  mta_tax  tip_amount  tolls_amount  \\\n",
       "0             2  ...    3.0      0.5         0.0           0.0   \n",
       "1             2  ...    3.0      0.5         0.0           0.0   \n",
       "2             2  ...    3.0      0.5         0.0           0.0   \n",
       "\n",
       "   improvement_surcharge  total_amount  congestion_surcharge  airport_fee  \\\n",
       "0                    0.3          20.8                   2.5          0.0   \n",
       "1                    0.3          14.8                   2.5          0.0   \n",
       "2                    0.3          19.3                   2.5          0.0   \n",
       "\n",
       "   travel_time  time_of_day  \n",
       "0       1122.0        night  \n",
       "1        829.0        night  \n",
       "2        922.0        night  \n",
       "\n",
       "[3 rows x 21 columns]"
      ]
     },
     "execution_count": 29,
     "metadata": {},
     "output_type": "execute_result"
    }
   ],
   "source": [
    "df_og.head(3)"
   ]
  },
  {
   "cell_type": "code",
   "execution_count": 30,
   "id": "92d3da8b",
   "metadata": {},
   "outputs": [],
   "source": [
    "# adding new column to indicate the day of the month that it was\n",
    "# also another one to indicate whether the trip took place on a weekend or not\n",
    "df_og['day'] = df_og['tpep_dropoff_datetime'].dt.day\n",
    "df_og['month'] = df_og['tpep_dropoff_datetime'].dt.month\n",
    "\n",
    "def is_weekend(dt:pd.Timestamp):\n",
    "    if dt.weekday() >= 5:  # 5 = Saturday, 6 = Sunday\n",
    "        return 1\n",
    "    else:\n",
    "        return 0\n",
    "df_og['is_weekend'] = df_og['tpep_dropoff_datetime'].apply(is_weekend)"
   ]
  },
  {
   "cell_type": "code",
   "execution_count": 31,
   "id": "3f381d02",
   "metadata": {},
   "outputs": [],
   "source": [
    "# now we add another column that includes the distance between cetroids\n",
    "def dist_between_zones(row):\n",
    "    pu = int(row['PULocationID'])\n",
    "    do = int(row['DOLocationID'])\n",
    "\n",
    "    return gdf['centroids'].iloc[pu-1].distance(gdf['centroids'].iloc[do-1])"
   ]
  },
  {
   "cell_type": "code",
   "execution_count": 32,
   "id": "31e1bac4",
   "metadata": {},
   "outputs": [
    {
     "data": {
      "text/plain": [
       "pandas.core.frame.DataFrame"
      ]
     },
     "execution_count": 32,
     "metadata": {},
     "output_type": "execute_result"
    }
   ],
   "source": [
    "type(df_og[['time_of_day', 'PULocationID']])"
   ]
  },
  {
   "cell_type": "code",
   "execution_count": 33,
   "id": "4e787042",
   "metadata": {},
   "outputs": [],
   "source": [
    "df_og['distance_between_zones'] = df_og.apply(dist_between_zones,axis=1)"
   ]
  },
  {
   "cell_type": "code",
   "execution_count": 34,
   "id": "ce5615ca",
   "metadata": {},
   "outputs": [],
   "source": [
    "# convert distances to miles (they are originally in meters)\n",
    "\n",
    "df_og['distance_between_zones'] = df_og['distance_between_zones']*0.000621371"
   ]
  },
  {
   "cell_type": "code",
   "execution_count": 35,
   "id": "f94be016",
   "metadata": {},
   "outputs": [],
   "source": [
    "# we can then drop all the unnecessary columns from our dataset\n",
    "\n",
    "df_og.drop(columns=['VendorID','tpep_pickup_datetime','tpep_dropoff_datetime','passenger_count',\n",
    "                   'RatecodeID','store_and_fwd_flag','payment_type','extra',\n",
    "                   'mta_tax','tip_amount','tolls_amount','total_amount'],inplace=True)"
   ]
  },
  {
   "cell_type": "code",
   "execution_count": 36,
   "id": "4b3ef78c",
   "metadata": {},
   "outputs": [
    {
     "data": {
      "text/plain": [
       "trip_distance             0\n",
       "PULocationID              0\n",
       "DOLocationID              0\n",
       "fare_amount               0\n",
       "improvement_surcharge     0\n",
       "congestion_surcharge      0\n",
       "airport_fee               0\n",
       "travel_time               0\n",
       "time_of_day               0\n",
       "day                       0\n",
       "month                     0\n",
       "is_weekend                0\n",
       "distance_between_zones    0\n",
       "dtype: int64"
      ]
     },
     "execution_count": 36,
     "metadata": {},
     "output_type": "execute_result"
    }
   ],
   "source": [
    "df_og.isna().sum()"
   ]
  }
 ],
 "metadata": {
  "kernelspec": {
   "display_name": "Python 3",
   "language": "python",
   "name": "python3"
  },
  "language_info": {
   "codemirror_mode": {
    "name": "ipython",
    "version": 3
   },
   "file_extension": ".py",
   "mimetype": "text/x-python",
   "name": "python",
   "nbconvert_exporter": "python",
   "pygments_lexer": "ipython3",
   "version": "3.12.5"
  }
 },
 "nbformat": 4,
 "nbformat_minor": 5
}
